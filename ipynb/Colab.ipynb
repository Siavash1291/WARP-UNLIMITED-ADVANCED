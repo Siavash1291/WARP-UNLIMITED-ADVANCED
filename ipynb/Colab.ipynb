{
  "cells": [
    {
      "cell_type": "markdown",
      "metadata": {
        "id": "view-in-github",
        "colab_type": "text"
      },
      "source": [
        "<a href=\"https://colab.research.google.com/github/Siavash1291/WARP-UNLIMITED-ADVANCED/blob/main/ipynb/Colab.ipynb\" target=\"_parent\"><img src=\"https://colab.research.google.com/assets/colab-badge.svg\" alt=\"Open In Colab\"/></a>"
      ]
    },
    {
      "cell_type": "markdown",
      "metadata": {
        "id": "MIem627NYSoe"
      },
      "source": [
        "**Enter WARP CLIENT ID:**"
      ]
    },
    {
      "cell_type": "code",
      "execution_count": null,
      "metadata": {
        "id": "u-iCa939Vv5C",
        "outputId": "becc6b90-bf4d-4136-8677-504d252fe7a7",
        "colab": {
          "base_uri": "https://localhost:8080/"
        }
      },
      "outputs": [
        {
          "output_type": "stream",
          "name": "stdout",
          "text": [
            "Collecting httpx\n",
            "  Downloading httpx-0.27.0-py3-none-any.whl (75 kB)\n",
            "\u001b[2K     \u001b[90m━━━━━━━━━━━━━━━━━━━━━━━━━━━━━━━━━━━━━━━━\u001b[0m \u001b[32m75.6/75.6 kB\u001b[0m \u001b[31m2.3 MB/s\u001b[0m eta \u001b[36m0:00:00\u001b[0m\n",
            "\u001b[?25hRequirement already satisfied: anyio in /usr/local/lib/python3.10/dist-packages (from httpx) (3.7.1)\n",
            "Requirement already satisfied: certifi in /usr/local/lib/python3.10/dist-packages (from httpx) (2024.2.2)\n",
            "Collecting httpcore==1.* (from httpx)\n",
            "  Downloading httpcore-1.0.5-py3-none-any.whl (77 kB)\n",
            "\u001b[2K     \u001b[90m━━━━━━━━━━━━━━━━━━━━━━━━━━━━━━━━━━━━━━━━\u001b[0m \u001b[32m77.9/77.9 kB\u001b[0m \u001b[31m8.9 MB/s\u001b[0m eta \u001b[36m0:00:00\u001b[0m\n",
            "\u001b[?25hRequirement already satisfied: idna in /usr/local/lib/python3.10/dist-packages (from httpx) (3.7)\n",
            "Requirement already satisfied: sniffio in /usr/local/lib/python3.10/dist-packages (from httpx) (1.3.1)\n",
            "Collecting h11<0.15,>=0.13 (from httpcore==1.*->httpx)\n",
            "  Downloading h11-0.14.0-py3-none-any.whl (58 kB)\n",
            "\u001b[2K     \u001b[90m━━━━━━━━━━━━━━━━━━━━━━━━━━━━━━━━━━━━━━━━\u001b[0m \u001b[32m58.3/58.3 kB\u001b[0m \u001b[31m6.3 MB/s\u001b[0m eta \u001b[36m0:00:00\u001b[0m\n",
            "\u001b[?25hRequirement already satisfied: exceptiongroup in /usr/local/lib/python3.10/dist-packages (from anyio->httpx) (1.2.1)\n",
            "Installing collected packages: h11, httpcore, httpx\n",
            "Successfully installed h11-0.14.0 httpcore-1.0.5 httpx-0.27.0\n",
            "PASSED: +1GB (total: 1GB, failed: 0)\n",
            "Sleep: 32 seconds.\n",
            "PASSED: +1GB (total: 2GB, failed: 0)\n",
            "Sleep: 47 seconds.\n",
            "PASSED: +1GB (total: 3GB, failed: 0)\n",
            "Sleep: 45 seconds.\n",
            "PASSED: +1GB (total: 4GB, failed: 0)\n",
            "Sleep: 31 seconds.\n",
            "PASSED: +1GB (total: 5GB, failed: 0)\n",
            "Sleep: 46 seconds.\n",
            "PASSED: +1GB (total: 6GB, failed: 0)\n",
            "Sleep: 43 seconds.\n",
            "PASSED: +1GB (total: 7GB, failed: 0)\n",
            "Sleep: 47 seconds.\n",
            "PASSED: +1GB (total: 8GB, failed: 0)\n",
            "Sleep: 37 seconds.\n",
            "PASSED: +1GB (total: 9GB, failed: 0)\n",
            "Sleep: 38 seconds.\n",
            "The read operation timed out\n",
            "PASSED: +1GB (total: 10GB, failed: 0)\n",
            "Sleep: 50 seconds.\n"
          ]
        }
      ],
      "source": [
        "#@markdown <br><center><img src='https://1.1.1.1/media/warp-desktop.png' height=\"200\" alt=\"Wrap+\"/></center>\n",
        "#@markdown <center><h3><b><i>WARP (1.1.1.1)</i></b></h3></center><br>\n",
        "!pip install httpx\n",
        "\n",
        "from datetime import datetime\n",
        "from json import dumps\n",
        "from random import choice, randint\n",
        "from string import ascii_letters, digits\n",
        "from time import sleep\n",
        "import httpx\n",
        "\n",
        "WARP_CLIENT_ID = \"bedb7d93-3ae8-4a60-a304-944c5b2c9a20\" #@param {type:\"string\"}\n",
        "\n",
        "# Defaults\n",
        "SUCCESS_COUNT, FAIL_COUNT = 0, 0\n",
        "\n",
        "def genString(stringLength):\n",
        "  try:\n",
        "    letters = ascii_letters + digits\n",
        "    return ''.join(choice(letters) for _ in range(stringLength))\n",
        "  except Exception as error_code:\n",
        "    print(error_code)\n",
        "\n",
        "def digitString(stringLength):\n",
        "  try:\n",
        "    digit = digits\n",
        "    return ''.join(choice(digit) for _ in range(stringLength))\n",
        "  except Exception as error_code:\n",
        "    print(error_code)\n",
        "\n",
        "url = f\"https://api.cloudflareclient.com/v0a{digitString(3)}/reg\"\n",
        "\n",
        "while True:\n",
        "  try:\n",
        "    install_id = genString(22)\n",
        "    body = {\n",
        "      \"key\": f\"{genString(43)}=\",\n",
        "      \"install_id\": install_id,\n",
        "      \"fcm_token\": f\"{install_id}:APA91b{genString(134)}\",\n",
        "      \"referrer\": WARP_CLIENT_ID,\n",
        "      \"warp_enabled\": False,\n",
        "      \"tos\": f\"{datetime.now().isoformat()[:-3]}+02:00\",\n",
        "      \"type\": \"Android\",\n",
        "      \"locale\": \"es_ES\"\n",
        "    }\n",
        "    data = dumps(body).encode(\"utf8\")\n",
        "    headers = {\n",
        "      \"Content-Type\": \"application/json; charset=UTF-8\",\n",
        "      \"Host\": \"api.cloudflareclient.com\",\n",
        "      \"Connection\": \"Keep-Alive\",\n",
        "      \"Accept-Encoding\": \"gzip\",\n",
        "      \"User-Agent\": \"okhttp/3.12.1\"\n",
        "    }\n",
        "    response = httpx.post(url, data=data, headers=headers).status_code\n",
        "  except Exception as error_code:\n",
        "    print(error_code)\n",
        "\n",
        "  if response == 200:\n",
        "    SUCCESS_COUNT += 1\n",
        "    print(f\"PASSED: +1GB (total: {SUCCESS_COUNT}GB, failed: {FAIL_COUNT})\")\n",
        "  else:\n",
        "    print(f\"FAILED: {response}\")\n",
        "    FAIL_COUNT += 1\n",
        "\n",
        "  # Cooldown\n",
        "  cooldown_time = randint(30,50)\n",
        "  print(f\"Sleep: {cooldown_time} seconds.\")\n",
        "  sleep(cooldown_time)"
      ]
    }
  ],
  "metadata": {
    "colab": {
      "provenance": [],
      "include_colab_link": true
    },
    "kernelspec": {
      "display_name": "Python 3",
      "language": "python",
      "name": "python3"
    },
    "language_info": {
      "name": "python",
      "version": "3.10.7 (tags/v3.10.7:6cc6b13, Sep  5 2022, 14:08:36) [MSC v.1933 64 bit (AMD64)]"
    },
    "vscode": {
      "interpreter": {
        "hash": "8a5edab282632443219e051e4ade2d1d5bbc671c781051bf1437897cbdfea0f1"
      }
    }
  },
  "nbformat": 4,
  "nbformat_minor": 0
}